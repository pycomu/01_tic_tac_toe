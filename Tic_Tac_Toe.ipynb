{
  "nbformat": 4,
  "nbformat_minor": 0,
  "metadata": {
    "colab": {
      "name": "Tic_TacToe.ipynb",
      "provenance": [],
      "collapsed_sections": []
    },
    "kernelspec": {
      "name": "python3",
      "display_name": "Python 3"
    }
  },
  "cells": [
    {
      "cell_type": "markdown",
      "metadata": {
        "id": "Jbm-ZmtkPW8R"
      },
      "source": [
        "## **Tic Tac Toe Game**"
      ]
    },
    {
      "cell_type": "code",
      "metadata": {
        "id": "WWKwqejgPaCj",
        "colab": {
          "base_uri": "https://localhost:8080/"
        },
        "outputId": "bf066e60-65d9-490d-8f4f-74cd8b7b7b27"
      },
      "source": [
        "def print_board():\r\n",
        "\r\n",
        "  print(\"  -  \"+ \"|\"+\"  -  \"+\"|\"+\"  -  \\n ----------------\\n  -  \"+ \"|\"+\"  -  \"+\"|\"+\"  -  \\n ----------------\\n  -  \"+ \"|\"+\"  -  \"+\"|\"+\"  -  \\n\")\r\n",
        "  \r\n",
        "print_board()"
      ],
      "execution_count": null,
      "outputs": [
        {
          "output_type": "stream",
          "text": [
            "  -  |  -  |  -  \n",
            " ----------------\n",
            "  -  |  -  |  -  \n",
            " ----------------\n",
            "  -  |  -  |  -  \n",
            "\n"
          ],
          "name": "stdout"
        }
      ]
    },
    {
      "cell_type": "code",
      "metadata": {
        "id": "I0wofwESoGz4"
      },
      "source": [
        "positons = [\"1\",\"2\",\"3\",\"4\",\"5\",\"6\",\"7\",\"8\",\"9\"]\r\n",
        "\r\n"
      ],
      "execution_count": null,
      "outputs": []
    }
  ]
}
